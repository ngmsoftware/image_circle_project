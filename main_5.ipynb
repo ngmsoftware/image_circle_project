{
 "cells": [
  {
   "cell_type": "code",
   "execution_count": 1,
   "metadata": {},
   "outputs": [],
   "source": [
    "import numpy as np\n",
    "import matplotlib.pyplot as plt\n",
    "import PIL\n",
    "\n",
    "%matplotlib qt5\n",
    "\n",
    "import ipywidgets"
   ]
  },
  {
   "cell_type": "code",
   "execution_count": null,
   "metadata": {},
   "outputs": [],
   "source": [
    "!pip install ipywidgets\n",
    "\n",
    "!jupyter nbextension enable --py widgetsnbextension"
   ]
  },
  {
   "cell_type": "code",
   "execution_count": 2,
   "metadata": {},
   "outputs": [],
   "source": [
    "_2pi = np.pi*2.0\n",
    "_pi = np.pi\n",
    "_pi2 = np.pi/2.0"
   ]
  },
  {
   "cell_type": "markdown",
   "metadata": {},
   "source": [
    "### Open images"
   ]
  },
  {
   "cell_type": "code",
   "execution_count": 7,
   "metadata": {},
   "outputs": [],
   "source": [
    "Ir = [None]*5\n",
    "Ir[0] = PIL.Image.open('words_5_1.png')\n",
    "Ir[1] = PIL.Image.open('words_5_2.png')\n",
    "Ir[2] = PIL.Image.open('words_5_3.png')\n",
    "Ir[3] = PIL.Image.open('words_5_4.png')\n",
    "Ir[4] = PIL.Image.open('words_5_5.png')"
   ]
  },
  {
   "cell_type": "markdown",
   "metadata": {},
   "source": [
    "### Function for interactive selection and segmentation\n",
    "cutUp, cutDown, cutLeft and cutRight = crop limits\n",
    "\n",
    "IMG = Image to crop\n",
    "\n",
    "ICut = reference to result image (list with one image)"
   ]
  },
  {
   "cell_type": "code",
   "execution_count": 8,
   "metadata": {},
   "outputs": [],
   "source": [
    "def showImage(cutUp = 10, cutDown=-10, cutLeft = 10, cutRight=-10, IMG = None, ICut = []):\n",
    "    plt.figure(figsize=(14,14))\n",
    "    \n",
    "    plt.subplot(1,2,1)\n",
    "    plt.cla()\n",
    "    plt.imshow(IMG)\n",
    "    plt.plot([cutLeft, cutLeft], [0, IMG.shape[0]], linewidth=3)\n",
    "    plt.plot([IMG.shape[1] + cutRight, IMG.shape[1] + cutRight], [0, IMG.shape[0]], linewidth=3)\n",
    "\n",
    "    plt.plot([0, IMG.shape[1]], [cutUp, cutUp], linewidth=3)\n",
    "    plt.plot([0, IMG.shape[1]], [IMG.shape[0] + cutDown, IMG.shape[0] + cutDown], linewidth=3)\n",
    "    \n",
    "    ICut[0] = IMG[cutUp:cutDown, cutLeft:cutRight, :]\n",
    "    \n",
    "    plt.subplot(1,2,2)\n",
    "    plt.cla()\n",
    "    plt.imshow(ICut[0], extent=(0,1,0,1), aspect=1)\n",
    "    #plt.axis([cutLeft, IMG.shape[1] + cutRight, cutUp, IMG.shape[0] + cutDown], extent=[0,100,0,1], aspect='auto')"
   ]
  },
  {
   "cell_type": "markdown",
   "metadata": {},
   "source": [
    "Segmentation of image from camera 1"
   ]
  },
  {
   "cell_type": "code",
   "execution_count": 38,
   "metadata": {},
   "outputs": [
    {
     "data": {
      "application/vnd.jupyter.widget-view+json": {
       "model_id": "065c595c87de434b940d6052077063b1",
       "version_major": 2,
       "version_minor": 0
      },
      "text/plain": [
       "interactive(children=(IntSlider(value=10, continuous_update=False, description='cutUp', layout=Layout(width='1…"
      ]
     },
     "metadata": {},
     "output_type": "display_data"
    },
    {
     "data": {
      "application/vnd.jupyter.widget-view+json": {
       "model_id": "1cdfbee6951a4d979be75f699e5928a9",
       "version_major": 2,
       "version_minor": 0
      },
      "text/plain": [
       "interactive(children=(IntSlider(value=10, continuous_update=False, description='cutUp', layout=Layout(width='1…"
      ]
     },
     "metadata": {},
     "output_type": "display_data"
    },
    {
     "data": {
      "application/vnd.jupyter.widget-view+json": {
       "model_id": "7b4ff01e2f7346d687dd7ef4df137779",
       "version_major": 2,
       "version_minor": 0
      },
      "text/plain": [
       "interactive(children=(IntSlider(value=10, continuous_update=False, description='cutUp', layout=Layout(width='1…"
      ]
     },
     "metadata": {},
     "output_type": "display_data"
    },
    {
     "data": {
      "application/vnd.jupyter.widget-view+json": {
       "model_id": "cf495dbac8d34b0d8224c2fdf55d74da",
       "version_major": 2,
       "version_minor": 0
      },
      "text/plain": [
       "interactive(children=(IntSlider(value=10, continuous_update=False, description='cutUp', layout=Layout(width='1…"
      ]
     },
     "metadata": {},
     "output_type": "display_data"
    },
    {
     "data": {
      "application/vnd.jupyter.widget-view+json": {
       "model_id": "1ee23fda54b24cc5bc563837066ec9fb",
       "version_major": 2,
       "version_minor": 0
      },
      "text/plain": [
       "interactive(children=(IntSlider(value=10, continuous_update=False, description='cutUp', layout=Layout(width='1…"
      ]
     },
     "metadata": {},
     "output_type": "display_data"
    }
   ],
   "source": [
    "IMGS = [None]*5\n",
    "ICuts = [None]*5\n",
    "\n",
    "for i in range(5):\n",
    "    IMGS[i] = np.array(Ir[i])[:,:,:3]\n",
    "    ICuts[i] = [None]\n",
    "    v = ipywidgets.interact(showImage, cutUp = ipywidgets.widgets.IntSlider(min=0, max=IMGS[i].shape[0], step=1, value=10, layout=ipywidgets.Layout(width='100%'), continuous_update=False), \n",
    "                         cutDown = ipywidgets.widgets.IntSlider(min=-IMGS[i].shape[1], max=-1, step=1, value=-10, layout=ipywidgets.Layout(width='100%'), continuous_update=False), \n",
    "                         cutLeft = ipywidgets.widgets.IntSlider(min=0, max=IMGS[i].shape[1], step=1, value=419, layout=ipywidgets.Layout(width='100%'), continuous_update=False), \n",
    "                         cutRight = ipywidgets.widgets.IntSlider(min=-IMGS[i].shape[1], max=-1, step=1, value=-419, layout=ipywidgets.Layout(width='100%'), continuous_update=False), IMG = ipywidgets.fixed(IMGS[i]), ICut = ipywidgets.fixed(ICuts[i]) )\n",
    "\n"
   ]
  },
  {
   "cell_type": "markdown",
   "metadata": {},
   "source": [
    "Segmentation of image from camera 2"
   ]
  },
  {
   "cell_type": "markdown",
   "metadata": {},
   "source": [
    "## Projection\n",
    "\n",
    "### geometry\n",
    "\n",
    "The angles and segments used in the code follows the following diagram:\n",
    "\n",
    "<img src=\"draw1.png\" width=600>\n",
    "\n",
    "\n",
    "The panorama image will be formed by uniformly sweeping from 0 to $2\\,\\pi$ the angle $\\theta$ in the diagram. For each angle $\\theta$, we compute the angle $\\xi$ in the camera image and transfer the pixel line from the camera do the panorama (at position $\\theta$)\n",
    "\n",
    "\n"
   ]
  },
  {
   "cell_type": "markdown",
   "metadata": {},
   "source": [
    "### Parameters \n",
    "\n",
    "a1, a2, a3 = camera angles\n",
    "\n",
    "qsi = $\\xi(\\theta)$\n",
    "\n",
    "o = $\\theta(\\xi)$\n",
    "\n",
    "\n",
    "Max angles corresponds to angles there the camera angle $\\xi$ becomes tangent to the circle\n",
    "\n",
    "qMax = $\\xi_{max}$\n",
    "\n",
    "oMax = $\\theta_{max}$\n",
    "\n",
    "\n",
    "lmin_o1, lmin_o2, lmin_o3 = limits that maps the extent of each camera image to angles in $\\xi$. Can be $2\\,\\theta_{max}$ around each camera angle (in which case will be overlaps in the panoramas) or just $120^o$ around each camera (which will mapped to the center of each camera image with no overlap)"
   ]
  },
  {
   "cell_type": "code",
   "execution_count": 14,
   "metadata": {},
   "outputs": [],
   "source": [
    "R = 11.25\n",
    "D = 74.5\n",
    "\n",
    "a = np.linspace(-_pi+_pi/5.0,_pi-_pi/5.0, 5)\n",
    "\n",
    "qsi = lambda o : np.arctan(  R*np.sin(o)/(D-R*np.cos(o))   )\n",
    "o = lambda qsi : np.arcsin((D/R)*np.sin(qsi)) - qsi\n",
    "\n",
    "qMax = np.arcsin(R/D)\n",
    "oMax = o(qMax)\n",
    "\n",
    "\n",
    "# lim_o1 = (a1 - oMax, a1 + oMax)\n",
    "# lim_o2 = (a2 - oMax, a2 + oMax)\n",
    "# lim_o3 = (a3 - oMax, a3 + oMax)\n",
    "\n",
    "lim_o = [None]*5\n",
    "for i in range(5):\n",
    "    lim_o[i] = (a[i] - _pi/5.0, a[i] + _pi/5.0)"
   ]
  },
  {
   "cell_type": "code",
   "execution_count": null,
   "metadata": {},
   "outputs": [],
   "source": []
  },
  {
   "cell_type": "code",
   "execution_count": null,
   "metadata": {},
   "outputs": [],
   "source": []
  },
  {
   "cell_type": "markdown",
   "metadata": {},
   "source": [
    "#### Panorama generation function\n",
    "\n",
    "The function <tt>generatePanorama</tt> generates a panorama W x H big by sweeping $-\\pi$ to $\\pi$ (mapping to 0 to W in the panorama image) and for each angle (pixel column in the panorama) finds which image contains that pixel column, computes the mapping between $\\xi$ and $\\theta$, converts (scales) $\\theta$ to pixel in the camera and transfer that column of pixels to the panorama.\n"
   ]
  },
  {
   "cell_type": "code",
   "execution_count": 16,
   "metadata": {},
   "outputs": [],
   "source": [
    "def isInInterval(o, lims):\n",
    "    res1 = o >= lims[0] and o <= lims[1]\n",
    "    res2 = (o + 2.0*np.pi) >= lims[0] and (o + 2.0*np.pi) <= lims[1]\n",
    "    res3 = (o - 2.0*np.pi) >= lims[0] and (o - 2.0*np.pi) <= lims[1]\n",
    "\n",
    "    return res1 or res2 or res3"
   ]
  },
  {
   "cell_type": "code",
   "execution_count": 59,
   "metadata": {},
   "outputs": [
    {
     "data": {
      "text/plain": [
       "<matplotlib.image.AxesImage at 0x162fe3880>"
      ]
     },
     "execution_count": 59,
     "metadata": {},
     "output_type": "execute_result"
    }
   ],
   "source": [
    "def generatePanorama(W, H, ass, lim_os, Is):\n",
    "\n",
    "    IPan = np.zeros( (H,W,3), dtype='int' )\n",
    "\n",
    "    for i in range(W):\n",
    "        _o = -_pi - i*_2pi/W\n",
    "\n",
    "        for j in range(5):\n",
    "            if isInInterval(_o,lim_os[j]):\n",
    "                _q = qsi(ass[j] - _o)\n",
    "                p = ( (_q + qMax)/(2.0*qMax) )*Is[j][0].shape[1]\n",
    "\n",
    "                IPan[:,i,:] = Is[j][0][:H,int(p),:]\n",
    "\n",
    "    return IPan\n",
    "\n",
    "W = 1500\n",
    "H = 512\n",
    "\n",
    "IPan = generatePanorama(W, H, a, lim_o, ICuts)\n",
    "\n",
    "            \n",
    "plt.figure(figsize=(15, 7))\n",
    "plt.imshow(IPan,extent=[-3,3,-1,1])"
   ]
  },
  {
   "cell_type": "code",
   "execution_count": null,
   "metadata": {},
   "outputs": [],
   "source": []
  },
  {
   "cell_type": "code",
   "execution_count": null,
   "metadata": {},
   "outputs": [],
   "source": []
  },
  {
   "cell_type": "code",
   "execution_count": null,
   "metadata": {},
   "outputs": [],
   "source": []
  },
  {
   "cell_type": "markdown",
   "metadata": {},
   "source": [
    "#### Interactive visualization of the projections\n",
    "\n",
    "Interactively plots the spatial position of the light ray from each camera to the center circle, drawing the line corresponding to that ray position in each camera as well as in the panorama.\n",
    "\n",
    "Notice that the limits of the cameras overlap in the panorama. "
   ]
  },
  {
   "cell_type": "code",
   "execution_count": 58,
   "metadata": {
    "scrolled": false
   },
   "outputs": [
    {
     "data": {
      "application/vnd.jupyter.widget-view+json": {
       "model_id": "cb5b1218283e46d1bf03a1616fa9db06",
       "version_major": 2,
       "version_minor": 0
      },
      "text/plain": [
       "interactive(children=(FloatSlider(value=0.0, continuous_update=False, description='qNorm1', layout=Layout(widt…"
      ]
     },
     "metadata": {},
     "output_type": "display_data"
    },
    {
     "data": {
      "text/plain": [
       "<function __main__.updatePlot(qNorm1=0.0, qNorm2=0.0, qNorm3=0.0, qNorm4=0.0, qNorm5=0.0)>"
      ]
     },
     "execution_count": 58,
     "metadata": {},
     "output_type": "execute_result"
    }
   ],
   "source": [
    "t = np.linspace(0.0,1.0,128).reshape( (1,128) )\n",
    "\n",
    "Ps = [None]*5\n",
    "for i in range(5):\n",
    "    Ps[i] = (D*np.cos(a[i]), D*np.sin(a[i]))\n",
    "\n",
    "C = np.concatenate( (R*np.cos(_2pi*t), R*np.sin(_2pi*t)) , axis=0 )\n",
    "\n",
    "\n",
    "def updatePlot(qNorm1 = 0.0, qNorm2 = 0.0, qNorm3 = 0.0, qNorm4 = 0.0, qNorm5 = 0.0):\n",
    "\n",
    "    qNorms = [qNorm1, qNorm2, qNorm3, qNorm4, qNorm5]\n",
    "    \n",
    "    qs = [None]*5\n",
    "    for i in range(5):\n",
    "        qs[i] = qMax*qNorms[i]\n",
    "\n",
    "    os = [None]*5\n",
    "    for i in range(5):\n",
    "        os[i] = o(qs[i])\n",
    "    \n",
    "\n",
    "    bs = [None]*5\n",
    "    for i in range(5):\n",
    "        bs[i] = R*np.sin(os[i] + a[i])\n",
    "\n",
    "    ds = [None]*5\n",
    "    for i in range(5):\n",
    "        ds[i] = R*np.cos(os[i] + a[i])\n",
    "\n",
    "        \n",
    "    #plt.figure( figsize=(14, 14) )\n",
    "\n",
    "    plt.axes([0.0, 0.5, 1.0, 0.5])\n",
    "    \n",
    "    plt.plot(C[0,:], C[1,:], color='k')\n",
    "\n",
    "    for i in range(5):\n",
    "        plt.plot([Ps[i][0], ds[i]], [Ps[i][1], bs[i]], color='r')\n",
    "        plt.plot([0, ds[i]], [0, bs[i]], color='r')\n",
    "\n",
    "\n",
    "    for i in range(5):\n",
    "        plt.plot([Ps[i][0]], [Ps[i][1]], '.', color='r', markersize=30)\n",
    "\n",
    "        \n",
    "    plt.axis('equal')\n",
    "\n",
    "    for i in range(5):\n",
    "        plt.axes([0.0 + i/5.0, 0.25, 1/5.0, 0.25])\n",
    "        plt.imshow(ICuts[i][0], extent=(-1,1,-1,1), aspect=1.0/1.33333)\n",
    "        plt.plot([qNorms[i], qNorms[i]],[-1, 1], color='r')\n",
    "    \n",
    "\n",
    "\n",
    "    plt.axes([0.0, 0.0, 1.0, 0.25])\n",
    "    plt.imshow(IPan, extent=(-3.14,3.14,-1,1), aspect=0.33333)    \n",
    "    \n",
    "    for i in range(5):\n",
    "        plt.plot([-_pi+(os[i]+a[i])%(_2pi), -_pi+(os[i]+a[i])%(_2pi)],[-1, 1], color='r')\n",
    "    \n",
    "    plt.axis([-_pi, _pi, -1, 1])\n",
    "\n",
    "\n",
    "\n",
    "    \n",
    "    \n",
    "qNorms = [None]*5\n",
    "for i in range(5):\n",
    "    qNorms[i] = ipywidgets.widgets.FloatSlider(min=-1.0, max=1.0, step=0.01, value=0.0, layout=ipywidgets.Layout(width='100%'), continuous_update=False)\n",
    "    \n",
    "ipywidgets.interact(updatePlot, qNorm1 = qNorms[0], qNorm2 = qNorms[1], qNorm3 = qNorms[2], qNorm4 = qNorms[3], qNorm5 = qNorms[4] )  "
   ]
  },
  {
   "cell_type": "code",
   "execution_count": null,
   "metadata": {},
   "outputs": [],
   "source": []
  },
  {
   "cell_type": "code",
   "execution_count": null,
   "metadata": {},
   "outputs": [],
   "source": []
  },
  {
   "cell_type": "code",
   "execution_count": null,
   "metadata": {},
   "outputs": [],
   "source": [
    "      "
   ]
  },
  {
   "cell_type": "code",
   "execution_count": null,
   "metadata": {},
   "outputs": [],
   "source": []
  },
  {
   "cell_type": "code",
   "execution_count": null,
   "metadata": {},
   "outputs": [],
   "source": []
  }
 ],
 "metadata": {
  "kernelspec": {
   "display_name": "Python 3 (ipykernel)",
   "language": "python",
   "name": "python3"
  },
  "language_info": {
   "codemirror_mode": {
    "name": "ipython",
    "version": 3
   },
   "file_extension": ".py",
   "mimetype": "text/x-python",
   "name": "python",
   "nbconvert_exporter": "python",
   "pygments_lexer": "ipython3",
   "version": "3.9.4"
  }
 },
 "nbformat": 4,
 "nbformat_minor": 4
}
