{
 "cells": [
  {
   "cell_type": "code",
   "execution_count": 52,
   "metadata": {},
   "outputs": [],
   "source": [
    "import numpy as np\n",
    "import matplotlib.pyplot as plt\n",
    "import PIL\n",
    "\n",
    "%matplotlib qt5\n",
    "\n",
    "import ipywidgets"
   ]
  },
  {
   "cell_type": "code",
   "execution_count": null,
   "metadata": {},
   "outputs": [],
   "source": [
    "!pip install ipywidgets\n",
    "\n",
    "!jupyter nbextension enable --py widgetsnbextension"
   ]
  },
  {
   "cell_type": "code",
   "execution_count": 53,
   "metadata": {},
   "outputs": [],
   "source": [
    "_2pi = np.pi*2.0\n",
    "_pi = np.pi\n",
    "_pi2 = np.pi/2.0"
   ]
  },
  {
   "cell_type": "markdown",
   "metadata": {},
   "source": [
    "### Open images"
   ]
  },
  {
   "cell_type": "code",
   "execution_count": 54,
   "metadata": {},
   "outputs": [],
   "source": [
    "# Ir6 = PIL.Image.open('test_01_rpi06.png')\n",
    "# Ir7 = PIL.Image.open('test_01_rpi07.png')\n",
    "# Ir8 = PIL.Image.open('test_01_rpi08.png')\n",
    "\n",
    "Ir6 = PIL.Image.open('c1.png')\n",
    "Ir7 = PIL.Image.open('c2.png')\n",
    "Ir8 = PIL.Image.open('c3.png')\n",
    "\n",
    "Ir6 = PIL.Image.open('words1.png')\n",
    "Ir7 = PIL.Image.open('words2.png')\n",
    "Ir8 = PIL.Image.open('words3.png')"
   ]
  },
  {
   "cell_type": "markdown",
   "metadata": {},
   "source": [
    "### Function for interactive selection and segmentation\n",
    "cutUp, cutDown, cutLeft and cutRight = crop limits\n",
    "\n",
    "IMG = Image to crop\n",
    "\n",
    "ICut = reference to result image (list with one image)"
   ]
  },
  {
   "cell_type": "code",
   "execution_count": 55,
   "metadata": {},
   "outputs": [],
   "source": [
    "def showImage(cutUp = 10, cutDown=-10, cutLeft = 10, cutRight=-10, IMG = None, ICut = []):\n",
    "    plt.figure(figsize=(14,14))\n",
    "    \n",
    "    plt.subplot(1,2,1)\n",
    "    plt.cla()\n",
    "    plt.imshow(IMG)\n",
    "    plt.plot([cutLeft, cutLeft], [0, IMG.shape[0]], linewidth=3)\n",
    "    plt.plot([IMG.shape[1] + cutRight, IMG.shape[1] + cutRight], [0, IMG.shape[0]], linewidth=3)\n",
    "\n",
    "    plt.plot([0, IMG.shape[1]], [cutUp, cutUp], linewidth=3)\n",
    "    plt.plot([0, IMG.shape[1]], [IMG.shape[0] + cutDown, IMG.shape[0] + cutDown], linewidth=3)\n",
    "    \n",
    "    ICut[0] = IMG[cutUp:cutDown, cutLeft:cutRight, :]\n",
    "    \n",
    "    plt.subplot(1,2,2)\n",
    "    plt.cla()\n",
    "    plt.imshow(ICut[0], extent=(0,1,0,1), aspect=1)\n",
    "    #plt.axis([cutLeft, IMG.shape[1] + cutRight, cutUp, IMG.shape[0] + cutDown], extent=[0,100,0,1], aspect='auto')"
   ]
  },
  {
   "cell_type": "markdown",
   "metadata": {},
   "source": [
    "Segmentation of image from camera 1"
   ]
  },
  {
   "cell_type": "code",
   "execution_count": 56,
   "metadata": {},
   "outputs": [
    {
     "data": {
      "application/vnd.jupyter.widget-view+json": {
       "model_id": "30740d8280844ddc8fbe6641f76236ee",
       "version_major": 2,
       "version_minor": 0
      },
      "text/plain": [
       "interactive(children=(IntSlider(value=10, continuous_update=False, description='cutUp', layout=Layout(width='1…"
      ]
     },
     "metadata": {},
     "output_type": "display_data"
    }
   ],
   "source": [
    "IMG1 = np.array(Ir6)[:,:,:3]\n",
    "ICut1 = [None]\n",
    "v = ipywidgets.interact(showImage, cutUp = ipywidgets.widgets.IntSlider(min=0, max=IMG1.shape[0], step=1, value=10, layout=ipywidgets.Layout(width='100%'), continuous_update=False), \n",
    "                     cutDown = ipywidgets.widgets.IntSlider(min=-IMG1.shape[1], max=-1, step=1, value=-10, layout=ipywidgets.Layout(width='100%'), continuous_update=False), \n",
    "                     cutLeft = ipywidgets.widgets.IntSlider(min=0, max=IMG1.shape[1], step=1, value=417, layout=ipywidgets.Layout(width='100%'), continuous_update=False), \n",
    "                     cutRight = ipywidgets.widgets.IntSlider(min=-IMG1.shape[1], max=-1, step=1, value=-417, layout=ipywidgets.Layout(width='100%'), continuous_update=False), IMG = ipywidgets.fixed(IMG1), ICut = ipywidgets.fixed(ICut1) )\n",
    "\n"
   ]
  },
  {
   "cell_type": "markdown",
   "metadata": {},
   "source": [
    "Segmentation of image from camera 2"
   ]
  },
  {
   "cell_type": "code",
   "execution_count": 57,
   "metadata": {},
   "outputs": [
    {
     "data": {
      "application/vnd.jupyter.widget-view+json": {
       "model_id": "e3ac0e787a2048aa939ef980251c977b",
       "version_major": 2,
       "version_minor": 0
      },
      "text/plain": [
       "interactive(children=(IntSlider(value=10, continuous_update=False, description='cutUp', layout=Layout(width='1…"
      ]
     },
     "metadata": {},
     "output_type": "display_data"
    }
   ],
   "source": [
    "IMG2 = np.array(Ir7)[:,:,:3]\n",
    "ICut2 = [None]\n",
    "v = ipywidgets.interact(showImage, cutUp = ipywidgets.widgets.IntSlider(min=0, max=IMG2.shape[0], step=1, value=10, layout=ipywidgets.Layout(width='100%'), continuous_update=False), \n",
    "                     cutDown = ipywidgets.widgets.IntSlider(min=-IMG2.shape[0], max=-1, step=1, value=-10, layout=ipywidgets.Layout(width='100%'), continuous_update=False), \n",
    "                     cutLeft = ipywidgets.widgets.IntSlider(min=0, max=IMG2.shape[1], step=1, value=417, layout=ipywidgets.Layout(width='100%'), continuous_update=False), \n",
    "                     cutRight = ipywidgets.widgets.IntSlider(min=-IMG2.shape[1], max=-1, step=1, value=-417, layout=ipywidgets.Layout(width='100%'), continuous_update=False), IMG = ipywidgets.fixed(IMG2), ICut = ipywidgets.fixed(ICut2) )"
   ]
  },
  {
   "cell_type": "markdown",
   "metadata": {},
   "source": [
    "Segmentation of image from camera 3"
   ]
  },
  {
   "cell_type": "code",
   "execution_count": 58,
   "metadata": {
    "scrolled": false
   },
   "outputs": [
    {
     "data": {
      "application/vnd.jupyter.widget-view+json": {
       "model_id": "7e328900f0ee4b83a12e83d16a019bb3",
       "version_major": 2,
       "version_minor": 0
      },
      "text/plain": [
       "interactive(children=(IntSlider(value=10, continuous_update=False, description='cutUp', layout=Layout(width='1…"
      ]
     },
     "metadata": {},
     "output_type": "display_data"
    }
   ],
   "source": [
    "IMG3 = np.array(Ir8)[:,:,:3]\n",
    "ICut3 = [None]\n",
    "v = ipywidgets.interact(showImage, cutUp = ipywidgets.widgets.IntSlider(min=0, max=IMG3.shape[0], step=1, value=10, layout=ipywidgets.Layout(width='100%'), continuous_update=False), \n",
    "                     cutDown = ipywidgets.widgets.IntSlider(min=-IMG3.shape[0], max=-1, step=1, value=-10, layout=ipywidgets.Layout(width='100%'), continuous_update=False), \n",
    "                     cutLeft = ipywidgets.widgets.IntSlider(min=0, max=IMG3.shape[1], step=1, value=417, layout=ipywidgets.Layout(width='100%'), continuous_update=False), \n",
    "                     cutRight = ipywidgets.widgets.IntSlider(min=-IMG3.shape[1], max=-1, step=1, value=-417, layout=ipywidgets.Layout(width='100%'), continuous_update=False), IMG = ipywidgets.fixed(IMG3), ICut = ipywidgets.fixed(ICut3) )"
   ]
  },
  {
   "cell_type": "markdown",
   "metadata": {},
   "source": [
    "## Projection\n",
    "\n",
    "### geometry\n",
    "\n",
    "The angles and segments used in the code follows the following diagram:\n",
    "\n",
    "<img src=\"draw1.png\" width=600>\n",
    "\n",
    "\n",
    "The panorama image will be formed by uniformly sweeping from 0 to $2\\,\\pi$ the angle $\\theta$ in the diagram. For each angle $\\theta$, we compute the angle $\\xi$ in the camera image and transfer the pixel line from the camera do the panorama (at position $\\theta$)\n",
    "\n",
    "\n"
   ]
  },
  {
   "cell_type": "markdown",
   "metadata": {},
   "source": [
    "### Parameters \n",
    "\n",
    "a1, a2, a3 = camera angles\n",
    "\n",
    "qsi = $\\xi(\\theta)$\n",
    "\n",
    "o = $\\theta(\\xi)$\n",
    "\n",
    "\n",
    "Max angles corresponds to angles there the camera angle $\\xi$ becomes tangent to the circle\n",
    "\n",
    "qMax = $\\xi_{max}$\n",
    "\n",
    "oMax = $\\theta_{max}$\n",
    "\n",
    "\n",
    "lmin_o1, lmin_o2, lmin_o3 = limits that maps the extent of each camera image to angles in $\\xi$. Can be $2\\,\\theta_{max}$ around each camera angle (in which case will be overlaps in the panoramas) or just $120^o$ around each camera (which will mapped to the center of each camera image with no overlap)"
   ]
  },
  {
   "cell_type": "code",
   "execution_count": 59,
   "metadata": {},
   "outputs": [],
   "source": [
    "R = 11.25\n",
    "D = 74.5\n",
    "\n",
    "a1 = _pi/3.0\n",
    "a2 = -_pi\n",
    "a3 = -_pi/3.0\n",
    "\n",
    "qsi = lambda o : np.arctan(  R*np.sin(o)/(D-R*np.cos(o))   )\n",
    "o = lambda qsi : np.arcsin((D/R)*np.sin(qsi)) - qsi\n",
    "\n",
    "qMax = np.arcsin(R/D)\n",
    "oMax = o(qMax)\n",
    "\n",
    "\n",
    "# lim_o1 = (a1 - oMax, a1 + oMax)\n",
    "# lim_o2 = (a2 - oMax, a2 + oMax)\n",
    "# lim_o3 = (a3 - oMax, a3 + oMax)\n",
    "\n",
    "lim_o1 = (a1 - _pi/3.0, a1 + _pi/3.0)\n",
    "lim_o2 = (a2 - _pi/3.0, a2 + _pi/3.0)\n",
    "lim_o3 = (a3 - _pi/3.0, a3 + _pi/3.0)"
   ]
  },
  {
   "cell_type": "code",
   "execution_count": null,
   "metadata": {},
   "outputs": [],
   "source": []
  },
  {
   "cell_type": "code",
   "execution_count": null,
   "metadata": {},
   "outputs": [],
   "source": []
  },
  {
   "cell_type": "markdown",
   "metadata": {},
   "source": [
    "#### Panorama generation function\n",
    "\n",
    "The function <tt>generatePanorama</tt> generates a panorama W x H big by sweeping $-\\pi$ to $\\pi$ (mapping to 0 to W in the panorama image) and for each angle (pixel column in the panorama) finds which image contains that pixel column, computes the mapping between $\\xi$ and $\\theta$, converts (scales) $\\theta$ to pixel in the camera and transfer that column of pixels to the panorama.\n"
   ]
  },
  {
   "cell_type": "code",
   "execution_count": 60,
   "metadata": {},
   "outputs": [],
   "source": [
    "def isInInterval(o, lims):\n",
    "    res1 = o >= lims[0] and o <= lims[1]\n",
    "    res2 = (o + 2.0*np.pi) >= lims[0] and (o + 2.0*np.pi) <= lims[1]\n",
    "    res3 = (o - 2.0*np.pi) >= lims[0] and (o - 2.0*np.pi) <= lims[1]\n",
    "\n",
    "    return res1 or res2 or res3"
   ]
  },
  {
   "cell_type": "code",
   "execution_count": 61,
   "metadata": {},
   "outputs": [
    {
     "data": {
      "text/plain": [
       "<matplotlib.image.AxesImage at 0x170ffd730>"
      ]
     },
     "execution_count": 61,
     "metadata": {},
     "output_type": "execute_result"
    }
   ],
   "source": [
    "def generatePanorama(W, H, lim_o1, lim_o2, lim_o3, I1, I2, I3):\n",
    "\n",
    "    IPan = np.zeros( (H,W,3), dtype='int' )\n",
    "\n",
    "    for i in range(W):\n",
    "        _o = -np.pi - i*_2pi/W\n",
    "\n",
    "        if isInInterval(_o,lim_o1):\n",
    "            _q = qsi(a1 - _o)\n",
    "            p = ( (_q + qMax)/(2.0*qMax) )*I1.shape[1]\n",
    "\n",
    "            IPan[:,i,:] = I1[:H,int(p),:]\n",
    "\n",
    "        if isInInterval(_o,lim_o2):\n",
    "            _q = qsi(a2 - _o)\n",
    "            p = ( (_q + qMax)/(2.0*qMax) )*I2.shape[1]\n",
    "\n",
    "            IPan[:,i,:] = I2[:H,(W+int(p))%W,:]\n",
    "\n",
    "        if isInInterval(_o,lim_o3):\n",
    "            _q = qsi(a3 - _o)\n",
    "            p = ( (_q + qMax)/(2.0*qMax) )*I3.shape[1]\n",
    "\n",
    "            IPan[:,i,:] = I3[:H,int(p),:]\n",
    "\n",
    "    return IPan\n",
    "\n",
    "W = 1500\n",
    "H = 512\n",
    "\n",
    "IPan = generatePanorama(W, H, lim_o1, lim_o2, lim_o3, ICut1[0], ICut2[0], ICut3[0])\n",
    "\n",
    "            \n",
    "plt.figure(figsize=(15, 7))\n",
    "plt.imshow(IPan,extent=[-3,3,-1,1])"
   ]
  },
  {
   "cell_type": "code",
   "execution_count": null,
   "metadata": {},
   "outputs": [],
   "source": []
  },
  {
   "cell_type": "code",
   "execution_count": null,
   "metadata": {},
   "outputs": [],
   "source": []
  },
  {
   "cell_type": "code",
   "execution_count": null,
   "metadata": {},
   "outputs": [],
   "source": []
  },
  {
   "cell_type": "markdown",
   "metadata": {},
   "source": [
    "#### Interactive visualization of the projections\n",
    "\n",
    "Interactively plots the spatial position of the light ray from each camera to the center circle, drawing the line corresponding to that ray position in each camera as well as in the panorama.\n",
    "\n",
    "Notice that the limits of the cameras overlap in the panorama. "
   ]
  },
  {
   "cell_type": "code",
   "execution_count": 47,
   "metadata": {
    "scrolled": false
   },
   "outputs": [
    {
     "data": {
      "application/vnd.jupyter.widget-view+json": {
       "model_id": "213d25a2339a4509ba16f45d2180a211",
       "version_major": 2,
       "version_minor": 0
      },
      "text/plain": [
       "interactive(children=(FloatSlider(value=0.0, continuous_update=False, description='qNorm1', layout=Layout(widt…"
      ]
     },
     "metadata": {},
     "output_type": "display_data"
    },
    {
     "data": {
      "text/plain": [
       "<function __main__.updatePlot(qNorm1=0.0, qNorm2=0.0, qNorm3=0.0)>"
      ]
     },
     "execution_count": 47,
     "metadata": {},
     "output_type": "execute_result"
    }
   ],
   "source": [
    "t = np.linspace(0.0,1.0,128).reshape( (1,128) )\n",
    "\n",
    "\n",
    "P1 = (D*np.cos(a1), D*np.sin(a1))\n",
    "P2 = (D*np.cos(a2), D*np.sin(a2))\n",
    "P3 = (D*np.cos(a3), D*np.sin(a3))\n",
    "\n",
    "C = np.concatenate( (R*np.cos(_2pi*t), R*np.sin(_2pi*t)) , axis=0 )\n",
    "\n",
    "\n",
    "def updatePlot(qNorm1 = 0.0, qNorm2 = 0.0, qNorm3 = 0.0):\n",
    "\n",
    "    q1 = qMax*qNorm1\n",
    "    q2 = qMax*qNorm2\n",
    "    q3 = qMax*qNorm3\n",
    "\n",
    "    o1 = o(q1)\n",
    "    o2 = o(q2)\n",
    "    o3 = o(q3)\n",
    "    \n",
    "    b1 = R*np.sin(o1 + a1)\n",
    "    b2 = R*np.sin(o2 + a2)\n",
    "    b3 = R*np.sin(o3 + a3)\n",
    "\n",
    "    d1 = R*np.cos(o1 + a1)\n",
    "    d2 = R*np.cos(o2 + a2)\n",
    "    d3 = R*np.cos(o3 + a3)\n",
    "\n",
    "    #plt.figure( figsize=(14, 14) )\n",
    "\n",
    "    plt.axes([0.0, 0.5, 1.0, 0.5])\n",
    "    \n",
    "    plt.plot(C[0,:], C[1,:], color='k')\n",
    "\n",
    "    plt.plot([P1[0], d1], [P1[1], b1], color='r')\n",
    "    plt.plot([0, d1], [0, b1], color='r')\n",
    "\n",
    "    plt.plot([P2[0], d2], [P2[1], b2], color='g')\n",
    "    plt.plot([0, d2], [0, b2], color='g')\n",
    "\n",
    "    plt.plot([P3[0], d3], [P3[1], b3], color='b')\n",
    "    plt.plot([0, d3], [0, b3], color='b')\n",
    "\n",
    "    plt.plot([P1[0]], [P1[1]], '.', color='r', markersize=30)\n",
    "    plt.plot([P2[0]], [P2[1]], '.', color='r', markersize=30)\n",
    "    plt.plot([P3[0]], [P3[1]], '.', color='r', markersize=30)\n",
    "\n",
    "    plt.axis('equal')\n",
    "\n",
    "    plt.axes([0.0, 0.25, 0.33333, 0.25])\n",
    "    plt.imshow(ICut1[0], extent=(-1,1,-1,1), aspect=1.0/1.33333)\n",
    "    plt.plot([qNorm1, qNorm1],[-1, 1], color='r')\n",
    "    \n",
    "    plt.axes([0.33333, 0.25, 0.33333, 0.25])\n",
    "    plt.imshow(ICut2[0], extent=(-1,1,-1,1), aspect=1.0/1.33333)\n",
    "    plt.plot([qNorm2, qNorm2],[-1, 1], color='g')\n",
    "    \n",
    "    plt.axes([0.66666, 0.25, 0.33333, 0.25])\n",
    "    plt.imshow(ICut3[0], extent=(-1,1,-1,1), aspect=1.0/1.33333)\n",
    "    plt.plot([qNorm3, qNorm3],[-1, 1], color='b')\n",
    "\n",
    "\n",
    "    plt.axes([0.0, 0.0, 1.0, 0.25])\n",
    "    plt.imshow(IPan, extent=(-3.14,3.14,-1,1), aspect=0.33333)\n",
    "    plt.plot([-_pi+(o1+a1)%(_2pi), -_pi+(o1+a1)%(_2pi)],[-1, 1], color='r')\n",
    "    plt.plot([-_pi+(o2+a2)%(_2pi), -_pi+(o2+a2)%(_2pi)],[-1, 1], color='g')\n",
    "    plt.plot([-_pi+(o3+a3)%(_2pi), -_pi+(o3+a3)%(_2pi)],[-1, 1], color='b')\n",
    "    plt.axis([-_pi, _pi, -1, 1])\n",
    "\n",
    "\n",
    "\n",
    "    \n",
    "    \n",
    "    \n",
    "ipywidgets.interact(updatePlot,\n",
    "                qNorm1 = ipywidgets.widgets.FloatSlider(min=-1.0, max=1.0, step=0.01, value=0.0, layout=ipywidgets.Layout(width='100%'), continuous_update=False),\n",
    "                qNorm2 = ipywidgets.widgets.FloatSlider(min=-1.0, max=1.0, step=0.01, value=0.0, layout=ipywidgets.Layout(width='100%'), continuous_update=False),\n",
    "                qNorm3 = ipywidgets.widgets.FloatSlider(min=-1.0, max=1.0, step=0.01, value=0.0, layout=ipywidgets.Layout(width='100%'), continuous_update=False)\n",
    "            )  \n"
   ]
  },
  {
   "cell_type": "code",
   "execution_count": null,
   "metadata": {},
   "outputs": [],
   "source": []
  },
  {
   "cell_type": "code",
   "execution_count": null,
   "metadata": {},
   "outputs": [],
   "source": []
  },
  {
   "cell_type": "code",
   "execution_count": null,
   "metadata": {},
   "outputs": [],
   "source": [
    "      "
   ]
  },
  {
   "cell_type": "code",
   "execution_count": null,
   "metadata": {},
   "outputs": [],
   "source": []
  },
  {
   "cell_type": "code",
   "execution_count": null,
   "metadata": {},
   "outputs": [],
   "source": []
  }
 ],
 "metadata": {
  "kernelspec": {
   "display_name": "Python 3 (ipykernel)",
   "language": "python",
   "name": "python3"
  },
  "language_info": {
   "codemirror_mode": {
    "name": "ipython",
    "version": 3
   },
   "file_extension": ".py",
   "mimetype": "text/x-python",
   "name": "python",
   "nbconvert_exporter": "python",
   "pygments_lexer": "ipython3",
   "version": "3.9.4"
  }
 },
 "nbformat": 4,
 "nbformat_minor": 4
}
